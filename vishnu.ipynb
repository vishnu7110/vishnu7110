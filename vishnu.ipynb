{
 "cells": [
  {
   "cell_type": "code",
   "execution_count": 1,
   "id": "228b112a-5856-4fa2-a4f6-dd7dda8741f3",
   "metadata": {},
   "outputs": [
    {
     "name": "stdin",
     "output_type": "stream",
     "text": [
      "enter the number: 50\n"
     ]
    },
    {
     "name": "stdout",
     "output_type": "stream",
     "text": [
      "NOT WEIRD\n"
     ]
    }
   ],
   "source": [
    "a=int(input(\"enter the number:\"))\n",
    "if a%2!=0:\n",
    "    print(\"WEIRD\")\n",
    "elif a%2==0:\n",
    "    if a==2 or a==3 or a==4 or a==5:\n",
    "        print(\"NOT WEIRD\")\n",
    "    elif a>20:\n",
    "        print(\"NOT WEIRD\")"
   ]
  },
  {
   "cell_type": "code",
   "execution_count": 2,
   "id": "b111382b-7a87-4797-8a79-ca5d824339f7",
   "metadata": {},
   "outputs": [
    {
     "name": "stdin",
     "output_type": "stream",
     "text": [
      "enter the no of days: 5\n"
     ]
    },
    {
     "name": "stdout",
     "output_type": "stream",
     "text": [
      "total fees 10\n"
     ]
    }
   ],
   "source": [
    "a=int(input(\"enter the no of days:\"))\n",
    "if a<=5:\n",
    "    b=a*2\n",
    "    print(\"total fees\",b)\n",
    "elif a>=6 and a<=10:\n",
    "    c=a*3\n",
    "    print(\"total fees\",c)\n",
    "elif a>=11 and a<=15:\n",
    "    d=a*4\n",
    "    print(\"total fees\",d)\n",
    "else:\n",
    "    e=a*5\n",
    "    print(\"total fees\",e)"
   ]
  },
  {
   "cell_type": "code",
   "execution_count": 3,
   "id": "a6989be4-2efa-48e6-8fca-5a8736a515c5",
   "metadata": {},
   "outputs": [
    {
     "name": "stdin",
     "output_type": "stream",
     "text": [
      "enter the character: a\n"
     ]
    },
    {
     "name": "stdout",
     "output_type": "stream",
     "text": [
      "The character is vowel\n"
     ]
    }
   ],
   "source": [
    "a=input(\"enter the character:\")\n",
    "if (a==\"a\" or a==\"e\" or a==\"i\" or a==\"o\" or a==\"u\" or a==\"A\" or a==\"E\" or a==\"I\" or a==\"O\" or a==\"U\"):\n",
    "    print(\"The character is vowel\")\n",
    "else:\n",
    "    print(\"the character is consonants\")"
   ]
  },
  {
   "cell_type": "code",
   "execution_count": null,
   "id": "ce923c12-6d0a-48e2-a8f4-aef2c51f0c4d",
   "metadata": {},
   "outputs": [],
   "source": []
  }
 ],
 "metadata": {
  "kernelspec": {
   "display_name": "Python 3 (ipykernel)",
   "language": "python",
   "name": "python3"
  },
  "language_info": {
   "codemirror_mode": {
    "name": "ipython",
    "version": 3
   },
   "file_extension": ".py",
   "mimetype": "text/x-python",
   "name": "python",
   "nbconvert_exporter": "python",
   "pygments_lexer": "ipython3",
   "version": "3.12.4"
  }
 },
 "nbformat": 4,
 "nbformat_minor": 5
}
